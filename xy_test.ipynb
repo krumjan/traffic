{
 "cells": [
  {
   "cell_type": "code",
   "execution_count": null,
   "metadata": {},
   "outputs": [],
   "source": [
    "from tqdm.auto import tqdm\n",
    "from traffic.data import nm_airspaces\n",
    "from traffic.data import opensky"
   ]
  },
  {
   "cell_type": "code",
   "execution_count": null,
   "metadata": {},
   "outputs": [],
   "source": [
    "# bad trajs:\n",
    "trajs = opensky.history(\n",
    "    \"2019-11-11 00:00\",\n",
    "    \"2019-11-11 23:59\",\n",
    "    airport=\"LSZH\",\n",
    "    bounds=nm_airspaces[\"LSZHTMA\"],\n",
    "    progressbar=tqdm,\n",
    "    cached=True,\n",
    ")\n",
    "\n",
    "# # good trajs:\n",
    "# trajs = opensky.history(\n",
    "#     \"2023-01-11 00:00\",\n",
    "#     \"2023-01-11 23:59\",\n",
    "#     airport=\"LSZH\",\n",
    "#     bounds=nm_airspaces[\"LSZHTMA\"],\n",
    "#     progressbar=tqdm,\n",
    "#     cached=True,\n",
    "# )"
   ]
  },
  {
   "cell_type": "code",
   "execution_count": null,
   "metadata": {},
   "outputs": [],
   "source": [
    "trajs = trajs.assign_id().eval()"
   ]
  },
  {
   "cell_type": "code",
   "execution_count": null,
   "metadata": {},
   "outputs": [],
   "source": [
    "# bad=['AAL93_634', 'AEA1671_010', 'AEA86PM_011', 'AEE5SZ_144', 'AEE5ZH_145', 'AFL2486_107', 'AFL2487_108', 'AFR141W_026', 'AFR161N_020', 'AFR181L_024',\n",
    "# 'AFR67FP_021', 'AFR96AP_023', 'ATL4U_075', 'AUA551_125', 'AUA570_127', 'AUA5CP_121', 'AUA5LS_128', 'AUA5PM_113', 'AZA571_595', 'BAW710_084',\n",
    "# 'BAW711_085', 'BAW712T_103', 'BAW718_088', 'CFE34M_100', 'CFE3DE_092', 'CFE3M_093', 'CPA382_622', 'DIVIV_083', 'DLH4RJ_004', 'DLH4TR_065']\n",
    "\n",
    "good=['2TAKA_084', '2TAKA_085', 'ACA880_448', 'ACA881_449', 'AEA23TK_016', 'AEA63AM_014', 'AEA86ZZ_015', 'AEA98JU_017', 'AFR37ME_024', 'AFR56KM_022',\n",
    "'AFR77VX_026', 'AMC490_396', 'AMC491_397', 'AMQ8A_127', 'AMQ8A_128', 'ANE1530_019', 'ASL29E_383', 'AUA554Z_093', 'AUA556_096', 'AUA562_087',\n",
    "'AUA564M_091', 'AUA566_100', 'AUA569_098', 'AUA570_099', 'AUA5M_088', 'AUA5Y_089', 'BAW14R_078', 'BAW3ZL_063', 'BAW707H_070', 'BAW708Z_071']"
   ]
  },
  {
   "cell_type": "code",
   "execution_count": null,
   "metadata": {},
   "outputs": [],
   "source": [
    "# trajs_bad = trajs[bad]\n",
    "trajs_good = trajs[good]"
   ]
  },
  {
   "cell_type": "code",
   "execution_count": null,
   "metadata": {},
   "outputs": [],
   "source": [
    "trajs_good"
   ]
  },
  {
   "cell_type": "code",
   "execution_count": null,
   "metadata": {},
   "outputs": [],
   "source": [
    "# trajs_bad.to_parquet(\"trajs_bad.parquet\")\n",
    "trajs_good.to_parquet(\"trajs_good.parquet\")"
   ]
  },
  {
   "cell_type": "code",
   "execution_count": null,
   "metadata": {},
   "outputs": [],
   "source": [
    "trajs = trajs.vr_alt_score().eval()"
   ]
  },
  {
   "cell_type": "code",
   "execution_count": null,
   "metadata": {},
   "outputs": [],
   "source": [
    "trajs[2].data.iloc[0].vr_alt_score"
   ]
  },
  {
   "cell_type": "code",
   "execution_count": null,
   "metadata": {},
   "outputs": [],
   "source": [
    "trajs = trajs.gs_pos_score().eval()\n",
    "# 0 -> 7.394037519927497"
   ]
  },
  {
   "cell_type": "code",
   "execution_count": null,
   "metadata": {},
   "outputs": [],
   "source": [
    "trajs[0].data.iloc[0].gs_pos_score"
   ]
  },
  {
   "cell_type": "code",
   "execution_count": null,
   "metadata": {},
   "outputs": [],
   "source": [
    "trajs[0].data"
   ]
  },
  {
   "cell_type": "code",
   "execution_count": null,
   "metadata": {},
   "outputs": [],
   "source": [
    "trajs = trajs.assign_id().eval()\n",
    "trajs_filt = trajs.filter_zhaw().resample('1s').eval(max_workers=20, desc=\"eval\")"
   ]
  },
  {
   "cell_type": "code",
   "execution_count": null,
   "metadata": {},
   "outputs": [],
   "source": [
    "df = trajs.data\n",
    "# get overview of datatypes\n",
    "df.dtypes"
   ]
  },
  {
   "cell_type": "code",
   "execution_count": null,
   "metadata": {},
   "outputs": [],
   "source": [
    "df = trajs_filt.data\n",
    "# get overview of datatypes\n",
    "df.dtypes"
   ]
  },
  {
   "cell_type": "code",
   "execution_count": null,
   "metadata": {},
   "outputs": [],
   "source": [
    "temp1.columns"
   ]
  },
  {
   "cell_type": "code",
   "execution_count": null,
   "metadata": {},
   "outputs": [],
   "source": [
    "x=0"
   ]
  },
  {
   "cell_type": "code",
   "execution_count": null,
   "metadata": {},
   "outputs": [],
   "source": [
    "from traffic.core import Traffic\n",
    "trajs = Traffic.from_file(\"trajs_bad.parquet\")"
   ]
  },
  {
   "cell_type": "code",
   "execution_count": null,
   "metadata": {},
   "outputs": [],
   "source": [
    "import plotly.graph_objects as go\n",
    "import plotly.express as px\n",
    "\n",
    "temp1 = trajs[x].data\n",
    "# temp2 = trajs_filt[x].data\n",
    "temp2 = trajs[x].data\n",
    "x = x + 1\n",
    "print(temp1.flight_id.iloc[0])\n",
    "\n",
    "fig = go.Figure(\n",
    "    data=go.Scatter(\n",
    "        x=temp1.timestamp, y=temp1.geoaltitude, name=\"unfiltered\", mode=\"lines\"\n",
    "    )\n",
    ")\n",
    "fig.update_layout(\n",
    "    height=500,\n",
    "    width=1500,\n",
    "    title={\"text\": \"Geoaltitude\"},\n",
    "    xaxis_title=\"Elapsed time [s]\",\n",
    "    yaxis_title=\"Geoaltitude [ft]\",\n",
    ")\n",
    "fig.add_trace(\n",
    "    go.Scatter(x=temp2.timestamp, y=temp2.geoaltitude, name=\"filtered\", mode=\"lines\")\n",
    ")\n",
    "fig.show()\n",
    "\n",
    "fig = go.Figure(\n",
    "    data=go.Scatter(\n",
    "        x=temp1.timestamp, y=temp1.altitude, name=\"unfiltered\", mode=\"lines\"\n",
    "    )\n",
    ")\n",
    "fig.update_layout(\n",
    "    height=500,\n",
    "    width=1500,\n",
    "    title={\"text\": \"Baroaltitude\"},\n",
    "    xaxis_title=\"Elapsed time [s]\",\n",
    "    yaxis_title=\"Baroaltitude [ft]\",\n",
    ")\n",
    "fig.add_trace(\n",
    "    go.Scatter(x=temp2.timestamp, y=temp2.altitude, name=\"filtered\", mode=\"lines\")\n",
    ")\n",
    "fig.show()\n",
    "\n",
    "fig = go.Figure(\n",
    "    data=go.Scatter(\n",
    "        x=temp1.timestamp, y=temp1.vertical_rate, name=\"unfiltered\", mode=\"lines\"\n",
    "    )\n",
    ")\n",
    "fig.update_layout(\n",
    "    height=500,\n",
    "    width=1500,\n",
    "    title={\"text\": \"Vertical rate\"},\n",
    "    xaxis_title=\"Elapsed time [s]\",\n",
    "    yaxis_title=\"Vertical rate [ft/min]\",\n",
    ")\n",
    "fig.add_trace(\n",
    "    go.Scatter(x=temp2.timestamp, y=temp2.vertical_rate, name=\"filtered\", mode=\"lines\")\n",
    ")\n",
    "fig.show()\n",
    "\n",
    "fig = go.Figure(\n",
    "    data=go.Scatter(\n",
    "        x=temp1.timestamp, y=temp1.groundspeed, name=\"unfiltered\", mode=\"lines\"\n",
    "    )\n",
    ")\n",
    "fig.update_layout(\n",
    "    height=500,\n",
    "    width=1500,\n",
    "    title={\"text\": \"Groundspeed\"},\n",
    "    xaxis_title=\"Elapsed time [s]\",\n",
    "    yaxis_title=\"Groundspeed [kts]\",\n",
    ")\n",
    "fig.add_trace(\n",
    "    go.Scatter(x=temp2.timestamp, y=temp2.groundspeed, name=\"filtered\", mode=\"lines\")\n",
    ")\n",
    "fig.show()\n",
    "\n",
    "fig = go.Figure(\n",
    "    data=go.Scatter(\n",
    "        x=temp1.timestamp, y=temp1.onground, name=\"unfiltered\", mode=\"lines\"\n",
    "    )\n",
    ")\n",
    "fig.update_layout(\n",
    "    height=500,\n",
    "    width=1500,\n",
    "    title={\"text\": \"OnGround\"},\n",
    "    xaxis_title=\"Elapsed time [s]\",\n",
    "    yaxis_title=\"OnGround [bool]\",\n",
    ")\n",
    "fig.add_trace(\n",
    "    go.Scatter(x=temp2.timestamp, y=temp2.onground, name=\"filtered\", mode=\"lines\")\n",
    ")\n",
    "fig.show()\n",
    "\n",
    "fig = go.Figure(\n",
    "    data=go.Scatter(x=temp1.timestamp, y=temp1.track, name=\"unfiltered\", mode=\"lines\")\n",
    ")\n",
    "fig.update_layout(\n",
    "    height=500,\n",
    "    width=1500,\n",
    "    title={\"text\": \"Track\"},\n",
    "    xaxis_title=\"Elapsed time [s]\",\n",
    "    yaxis_title=\"Track angle [degrees]\",\n",
    ")\n",
    "fig.add_trace(\n",
    "    go.Scatter(x=temp2.timestamp, y=temp2.track, name=\"filtered\", mode=\"lines\")\n",
    ")\n",
    "fig.show()\n",
    "\n",
    "fig = go.Figure(\n",
    "    data=go.Scatter(\n",
    "        x=temp1.timestamp, y=temp1.latitude, name=\"unfiltered\", mode=\"lines\"\n",
    "    )\n",
    ")\n",
    "fig.update_layout(\n",
    "    height=500,\n",
    "    width=1500,\n",
    "    title={\"text\": \"Latitude\"},\n",
    "    xaxis_title=\"Elapsed time [s]\",\n",
    "    yaxis_title=\"Latitude [decimal degrees]\",\n",
    ")\n",
    "fig.add_trace(\n",
    "    go.Scatter(x=temp2.timestamp, y=temp2.latitude, name=\"filtered\", mode=\"lines\")\n",
    ")\n",
    "fig.show()\n",
    "\n",
    "fig = go.Figure(\n",
    "    data=go.Scatter(\n",
    "        x=temp1.timestamp, y=temp1.longitude, name=\"unfiltered\", mode=\"lines\"\n",
    "    )\n",
    ")\n",
    "fig.update_layout(\n",
    "    height=500,\n",
    "    width=1500,\n",
    "    title={\"text\": \"Longitude\"},\n",
    "    xaxis_title=\"Elapsed time [s]\",\n",
    "    yaxis_title=\"OnGround [decimal degrees]\",\n",
    ")\n",
    "fig.add_trace(\n",
    "    go.Scatter(x=temp2.timestamp, y=temp2.longitude, name=\"filtered\", mode=\"lines\")\n",
    ")\n",
    "fig.show()\n",
    "\n",
    "fig = go.Figure(\n",
    "    go.Scattermapbox(\n",
    "        mode=\"lines\", lon=temp1.longitude, lat=temp1.latitude, name=\"unfiltered\"\n",
    "    )\n",
    ")\n",
    "fig.update_layout(mapbox_style=\"carto-positron\")\n",
    "fig.add_trace(\n",
    "    go.Scattermapbox(\n",
    "        mode=\"lines\", lon=temp2.longitude, lat=temp2.latitude, name=\"filtered\"\n",
    "    )\n",
    ")\n",
    "fig.update_layout(\n",
    "    height=1000,\n",
    "    width=1500,\n",
    "    margin={\"l\": 0, \"b\": 0, \"t\": 40, \"r\": 0},\n",
    "    mapbox_zoom=9,\n",
    "    mapbox_center={\"lat\": temp1.latitude.mean(), \"lon\": temp1.longitude.mean()},\n",
    ")\n",
    "fig.show()"
   ]
  }
 ],
 "metadata": {
  "kernelspec": {
   "display_name": ".venv",
   "language": "python",
   "name": "python3"
  },
  "language_info": {
   "codemirror_mode": {
    "name": "ipython",
    "version": 3
   },
   "file_extension": ".py",
   "mimetype": "text/x-python",
   "name": "python",
   "nbconvert_exporter": "python",
   "pygments_lexer": "ipython3",
   "version": "3.9.13"
  },
  "orig_nbformat": 4
 },
 "nbformat": 4,
 "nbformat_minor": 2
}
